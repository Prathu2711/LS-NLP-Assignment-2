{
 "cells": [
  {
   "cell_type": "code",
   "execution_count": 1,
   "id": "6f1a8c95-b7c9-42b8-9422-dd1eabee93db",
   "metadata": {},
   "outputs": [
    {
     "data": {
      "text/html": [
       "<div>\n",
       "<style scoped>\n",
       "    .dataframe tbody tr th:only-of-type {\n",
       "        vertical-align: middle;\n",
       "    }\n",
       "\n",
       "    .dataframe tbody tr th {\n",
       "        vertical-align: top;\n",
       "    }\n",
       "\n",
       "    .dataframe thead th {\n",
       "        text-align: right;\n",
       "    }\n",
       "</style>\n",
       "<table border=\"1\" class=\"dataframe\">\n",
       "  <thead>\n",
       "    <tr style=\"text-align: right;\">\n",
       "      <th></th>\n",
       "      <th>Class</th>\n",
       "      <th>Message</th>\n",
       "    </tr>\n",
       "  </thead>\n",
       "  <tbody>\n",
       "    <tr>\n",
       "      <th>0</th>\n",
       "      <td>ham</td>\n",
       "      <td>Go until jurong point, crazy.. Available only ...</td>\n",
       "    </tr>\n",
       "    <tr>\n",
       "      <th>1</th>\n",
       "      <td>ham</td>\n",
       "      <td>Ok lar... Joking wif u oni...</td>\n",
       "    </tr>\n",
       "    <tr>\n",
       "      <th>2</th>\n",
       "      <td>spam</td>\n",
       "      <td>Free entry in 2 a wkly comp to win FA Cup fina...</td>\n",
       "    </tr>\n",
       "    <tr>\n",
       "      <th>3</th>\n",
       "      <td>ham</td>\n",
       "      <td>U dun say so early hor... U c already then say...</td>\n",
       "    </tr>\n",
       "    <tr>\n",
       "      <th>4</th>\n",
       "      <td>ham</td>\n",
       "      <td>Nah I don't think he goes to usf, he lives aro...</td>\n",
       "    </tr>\n",
       "    <tr>\n",
       "      <th>...</th>\n",
       "      <td>...</td>\n",
       "      <td>...</td>\n",
       "    </tr>\n",
       "    <tr>\n",
       "      <th>5569</th>\n",
       "      <td>spam</td>\n",
       "      <td>This is the 2nd time we have tried 2 contact u...</td>\n",
       "    </tr>\n",
       "    <tr>\n",
       "      <th>5570</th>\n",
       "      <td>ham</td>\n",
       "      <td>Will ü b going to esplanade fr home?</td>\n",
       "    </tr>\n",
       "    <tr>\n",
       "      <th>5571</th>\n",
       "      <td>ham</td>\n",
       "      <td>Pity, * was in mood for that. So...any other s...</td>\n",
       "    </tr>\n",
       "    <tr>\n",
       "      <th>5572</th>\n",
       "      <td>ham</td>\n",
       "      <td>The guy did some bitching but I acted like i'd...</td>\n",
       "    </tr>\n",
       "    <tr>\n",
       "      <th>5573</th>\n",
       "      <td>ham</td>\n",
       "      <td>Rofl. Its true to its name</td>\n",
       "    </tr>\n",
       "  </tbody>\n",
       "</table>\n",
       "<p>5574 rows × 2 columns</p>\n",
       "</div>"
      ],
      "text/plain": [
       "     Class                                            Message\n",
       "0      ham  Go until jurong point, crazy.. Available only ...\n",
       "1      ham                      Ok lar... Joking wif u oni...\n",
       "2     spam  Free entry in 2 a wkly comp to win FA Cup fina...\n",
       "3      ham  U dun say so early hor... U c already then say...\n",
       "4      ham  Nah I don't think he goes to usf, he lives aro...\n",
       "...    ...                                                ...\n",
       "5569  spam  This is the 2nd time we have tried 2 contact u...\n",
       "5570   ham               Will ü b going to esplanade fr home?\n",
       "5571   ham  Pity, * was in mood for that. So...any other s...\n",
       "5572   ham  The guy did some bitching but I acted like i'd...\n",
       "5573   ham                         Rofl. Its true to its name\n",
       "\n",
       "[5574 rows x 2 columns]"
      ]
     },
     "execution_count": 1,
     "metadata": {},
     "output_type": "execute_result"
    }
   ],
   "source": [
    "import pandas as pd\n",
    "\n",
    "df = pd.read_csv('Spam_SMS.csv')\n",
    "df"
   ]
  },
  {
   "cell_type": "code",
   "execution_count": 2,
   "id": "aa125c3b-9480-4e0a-912c-2cf166bbb0c1",
   "metadata": {},
   "outputs": [],
   "source": [
    "df['Message'] = df['Message'].str.lower()"
   ]
  },
  {
   "cell_type": "code",
   "execution_count": 3,
   "id": "bfe04a84-d3a6-45f8-ba11-0a7eeddd4e5b",
   "metadata": {},
   "outputs": [
    {
     "data": {
      "text/plain": [
       "0       go until jurong point crazy available only in ...\n",
       "1                                 ok lar joking wif u oni\n",
       "2       free entry in 2 a wkly comp to win fa cup fina...\n",
       "3             u dun say so early hor u c already then say\n",
       "4       nah i dont think he goes to usf he lives aroun...\n",
       "                              ...                        \n",
       "5569    this is the 2nd time we have tried 2 contact u...\n",
       "5570                  will ü b going to esplanade fr home\n",
       "5571    pity  was in mood for that soany other suggest...\n",
       "5572    the guy did some bitching but i acted like id ...\n",
       "5573                            rofl its true to its name\n",
       "Name: Message, Length: 5574, dtype: object"
      ]
     },
     "execution_count": 3,
     "metadata": {},
     "output_type": "execute_result"
    }
   ],
   "source": [
    "import string\n",
    "exclude = string.punctuation\n",
    "\n",
    "def remove_punc(text):\n",
    "    return text.translate(str.maketrans('','',exclude))\n",
    "\n",
    "df['Message'] = df['Message'].apply(remove_punc)\n",
    "df['Message']"
   ]
  },
  {
   "cell_type": "code",
   "execution_count": 4,
   "id": "7b842124-0b9e-4602-a542-568d2697de2d",
   "metadata": {},
   "outputs": [
    {
     "name": "stdout",
     "output_type": "stream",
     "text": [
      "0       go   jurong point crazy available     bugis n ...\n",
      "1                                 ok lar joking wif u oni\n",
      "2       free entry   2   wkly comp   win fa cup final ...\n",
      "3                 u dun say   early hor u c already   say\n",
      "4       nah   dont think   goes   usf   lives around  ...\n",
      "                              ...                        \n",
      "5569          2nd time     tried 2 contact u u       £...\n",
      "5570                        ü b going   esplanade fr home\n",
      "5571                pity     mood     soany   suggestions\n",
      "5572      guy     bitching     acted like id   interes...\n",
      "5573                                 rofl   true     name\n",
      "Name: Message, Length: 5574, dtype: object\n"
     ]
    }
   ],
   "source": [
    "from nltk.corpus import stopwords\n",
    "\n",
    "stop_words = set(stopwords.words('english'))\n",
    "def remove_stopwords(text):\n",
    "    new_text = []\n",
    "    for word in text.split():\n",
    "        if word in stop_words:\n",
    "            new_text.append(' ')\n",
    "        else:\n",
    "            new_text.append(word)\n",
    "    X = new_text[:]\n",
    "    new_text.clear()\n",
    "    return \" \".join(X)\n",
    "\n",
    "df['Message'] = df['Message'].apply(remove_stopwords)\n",
    "print(df['Message'])"
   ]
  },
  {
   "cell_type": "code",
   "execution_count": 5,
   "id": "69674347-d13c-4062-9895-13f3ab932ae3",
   "metadata": {},
   "outputs": [
    {
     "name": "stdout",
     "output_type": "stream",
     "text": [
      "0       go jurong point crazy available bugis n great ...\n",
      "1                                 ok lar joking wif u oni\n",
      "2       free entry 2 wkly comp win fa cup final tkts 2...\n",
      "3                     u dun say early hor u c already say\n",
      "4                nah dont think go usf life around though\n",
      "                              ...                        \n",
      "5569    2nd time tried 2 contact u u £750 pound prize ...\n",
      "5570                          ü b going esplanade fr home\n",
      "5571                           pity mood soany suggestion\n",
      "5572    guy bitching acted like id interested buying s...\n",
      "5573                                       rofl true name\n",
      "Name: Message, Length: 5574, dtype: object\n"
     ]
    }
   ],
   "source": [
    "from nltk.stem import WordNetLemmatizer\n",
    "from nltk.corpus import wordnet\n",
    "\n",
    "lemmatizer = WordNetLemmatizer()\n",
    "\n",
    "def lemmatize_text(text):\n",
    "    return \" \".join([lemmatizer.lemmatize(word) for word in text.split()])\n",
    "\n",
    "df['Message'] = df['Message'].apply(lemmatize_text)\n",
    "print(df['Message'])"
   ]
  },
  {
   "cell_type": "code",
   "execution_count": 6,
   "id": "09717205-e84e-4091-837e-1afb0068195a",
   "metadata": {},
   "outputs": [],
   "source": [
    "import gensim.downloader as api\n",
    "w2v_model = api.load(\"word2vec-google-news-300\") "
   ]
  },
  {
   "cell_type": "code",
   "execution_count": 8,
   "id": "4ed1a47d-dc03-4a67-bdaf-84f468b63c6b",
   "metadata": {},
   "outputs": [
    {
     "data": {
      "text/plain": [
       "array([[-0.01980591,  0.05167062,  0.02709961, ..., -0.07992554,\n",
       "        -0.05235944,  0.03033665],\n",
       "       [-0.06323496,  0.0803833 ,  0.0609436 , ..., -0.11419169,\n",
       "        -0.07287598,  0.10921224],\n",
       "       [ 0.00078852, -0.0298785 , -0.0717199 , ..., -0.12769902,\n",
       "        -0.09681567,  0.01087705],\n",
       "       ...,\n",
       "       [ 0.09309896,  0.09602865,  0.0263265 , ..., -0.07503255,\n",
       "        -0.04199219, -0.00093587],\n",
       "       [ 0.09333147,  0.01583426, -0.00273596, ..., -0.0831822 ,\n",
       "        -0.03322983, -0.01823698],\n",
       "       [ 0.11197916,  0.0679423 ,  0.08723959, ..., -0.05094401,\n",
       "        -0.13898213,  0.01904297]])"
      ]
     },
     "execution_count": 8,
     "metadata": {},
     "output_type": "execute_result"
    }
   ],
   "source": [
    "import numpy as np\n",
    "from nltk.tokenize import word_tokenize\n",
    "import nltk\n",
    "\n",
    "def message_to_vector(message):\n",
    "    words = word_tokenize(message.lower())\n",
    "    vectors = []\n",
    "    \n",
    "    for word in words:\n",
    "        if word in w2v_model:\n",
    "            vectors.append(w2v_model[word])\n",
    "    \n",
    "    if vectors:\n",
    "        return np.mean(vectors, axis=0)\n",
    "    else:\n",
    "        return np.zeros(300)  \n",
    "\n",
    "df['Message_Vector'] = df['Message'].apply(message_to_vector)\n",
    "X = np.vstack(df['Message_Vector'].values)  \n",
    "X"
   ]
  },
  {
   "cell_type": "code",
   "execution_count": 10,
   "id": "dc8d38e2-66af-4602-8cf6-461e4439c88b",
   "metadata": {},
   "outputs": [
    {
     "data": {
      "text/plain": [
       "(4459, 300)"
      ]
     },
     "execution_count": 10,
     "metadata": {},
     "output_type": "execute_result"
    }
   ],
   "source": [
    "df['Class'] = df['Class'].astype(str).str.lower().map({'ham': 0, 'spam': 1})\n",
    "X = np.vstack(df['Message_Vector'].values)\n",
    "y = df['Class']\n",
    "from sklearn.model_selection import train_test_split\n",
    "\n",
    "X_train, X_test, y_train, y_test = train_test_split(X,y,test_size = 0.2, random_state = 1)\n",
    "X_train.shape"
   ]
  },
  {
   "cell_type": "code",
   "execution_count": 12,
   "id": "dd50151b-3338-40bc-9bb1-ccfbeca2495f",
   "metadata": {},
   "outputs": [
    {
     "name": "stdout",
     "output_type": "stream",
     "text": [
      "Accuracy on Test Set: 94.62%\n"
     ]
    }
   ],
   "source": [
    "from sklearn.linear_model import LogisticRegression\n",
    "from sklearn.metrics import accuracy_score\n",
    "\n",
    "model = LogisticRegression(max_iter=1000)  \n",
    "model.fit(X_train, y_train)\n",
    "\n",
    "y_pred = model.predict(X_test)\n",
    "\n",
    "accuracy = accuracy_score(y_test, y_pred)\n",
    "print(f\"Accuracy on Test Set: {accuracy * 100:.2f}%\")\n"
   ]
  },
  {
   "cell_type": "code",
   "execution_count": 14,
   "id": "abb44220-f908-4df2-8dc8-3a622c41079c",
   "metadata": {},
   "outputs": [
    {
     "data": {
      "text/plain": [
       "0       0\n",
       "1       0\n",
       "2       1\n",
       "3       0\n",
       "4       0\n",
       "       ..\n",
       "5569    1\n",
       "5570    0\n",
       "5571    0\n",
       "5572    0\n",
       "5573    0\n",
       "Name: Class, Length: 5574, dtype: int64"
      ]
     },
     "execution_count": 14,
     "metadata": {},
     "output_type": "execute_result"
    }
   ],
   "source": [
    "df['Class']"
   ]
  },
  {
   "cell_type": "code",
   "execution_count": 16,
   "id": "af97ad81-744b-4760-8390-b806dbda7e09",
   "metadata": {},
   "outputs": [],
   "source": [
    "X = np.vstack(df['Message_Vector'].values)"
   ]
  },
  {
   "cell_type": "code",
   "execution_count": 18,
   "id": "e146cf39-2ff2-48dc-ae14-8d4f7d7714aa",
   "metadata": {},
   "outputs": [
    {
     "data": {
      "text/plain": [
       "(4459, 300)"
      ]
     },
     "execution_count": 18,
     "metadata": {},
     "output_type": "execute_result"
    }
   ],
   "source": [
    "X_train, X_test, y_train, y_test = train_test_split(X,y,test_size = 0.2, random_state = 1)\n",
    "X_train.shape"
   ]
  },
  {
   "cell_type": "code",
   "execution_count": 20,
   "id": "b7404b92-3a66-4e9c-897e-1e4d9b2388bc",
   "metadata": {},
   "outputs": [],
   "source": [
    "from nltk.tokenize import word_tokenize\n",
    "import numpy as np\n",
    "\n",
    "def predict_message_class(model, w2v_model, message):\n",
    "    words = word_tokenize(message.lower())\n",
    "    vectors = [w2v_model[word] for word in words if word in w2v_model]\n",
    "\n",
    "    if vectors:\n",
    "        t = np.mean(vectors, axis=0)\n",
    "    else:\n",
    "        t = np.zeros(300)\n",
    "\n",
    "    t = t.reshape(1, -1)  \n",
    "    return model.predict(t)[0] \n"
   ]
  },
  {
   "cell_type": "code",
   "execution_count": 22,
   "id": "db6a76a4-1ccf-4eb6-a89e-59168f41414f",
   "metadata": {},
   "outputs": [
    {
     "name": "stdout",
     "output_type": "stream",
     "text": [
      "0\n",
      "0\n"
     ]
    }
   ],
   "source": [
    "x1 = df['Message'][0]\n",
    "x2 = df['Class'][0]\n",
    "print(predict_message_class(model, w2v_model,x1))\n",
    "print(x2)"
   ]
  },
  {
   "cell_type": "code",
   "execution_count": null,
   "id": "75571971-20e9-4b82-a28b-a10aecb6df0e",
   "metadata": {},
   "outputs": [],
   "source": []
  }
 ],
 "metadata": {
  "kernelspec": {
   "display_name": "Python [conda env:base] *",
   "language": "python",
   "name": "conda-base-py"
  },
  "language_info": {
   "codemirror_mode": {
    "name": "ipython",
    "version": 3
   },
   "file_extension": ".py",
   "mimetype": "text/x-python",
   "name": "python",
   "nbconvert_exporter": "python",
   "pygments_lexer": "ipython3",
   "version": "3.12.7"
  }
 },
 "nbformat": 4,
 "nbformat_minor": 5
}
